{
 "cells": [
  {
   "cell_type": "code",
   "execution_count": 2,
   "metadata": {},
   "outputs": [],
   "source": [
    "import pandas as pd\n",
    "import numpy as np\n",
    "\n",
    "import matplotlib.pyplot as plt\n",
    "from matplotlib.patches import Patch\n",
    "from matplotlib.markers import MarkerStyle\n",
    "import seaborn as sns\n",
    "\n",
    "from glob import glob"
   ]
  },
  {
   "cell_type": "code",
   "execution_count": 3,
   "metadata": {},
   "outputs": [],
   "source": [
    "def format_data(path):\n",
    "    f = open(path, \"r\")\n",
    "    content = f.readlines()\n",
    "    f.close()\n",
    "    content_dict = {}\n",
    "    content_dict[\"Title\"] = content[0][7:-1]\n",
    "    content_dict[\"Tags\"] = content[5][6:-1]\n",
    "    content_dict[\"Summary\"] = content[6][9:-1]\n",
    "    content_dict[\"Content\"] = content[8:]\n",
    "    return content_dict"
   ]
  },
  {
   "cell_type": "code",
   "execution_count": 4,
   "metadata": {},
   "outputs": [],
   "source": [
    "def format_summary(path):\n",
    "    f = open(path, \"r\")\n",
    "    content = f.readlines()\n",
    "    f.close()\n",
    "    res = [x.rstrip(\"\\n\") for x in content]\n",
    "    res = [x for x in res if len(x)>0]\n",
    "    return res"
   ]
  },
  {
   "cell_type": "code",
   "execution_count": 5,
   "metadata": {},
   "outputs": [
    {
     "name": "stdout",
     "output_type": "stream",
     "text": [
      "300\n"
     ]
    }
   ],
   "source": [
    "cluster_text_path = sorted(glob(\"./data/ViMs/original/*/*\"))\n",
    "print(len(cluster_text_path))"
   ]
  },
  {
   "cell_type": "code",
   "execution_count": 6,
   "metadata": {},
   "outputs": [
    {
     "name": "stdout",
     "output_type": "stream",
     "text": [
      "1945\n"
     ]
    }
   ],
   "source": [
    "print(len(glob(\"./data/ViMs/original/*/*/*\")))"
   ]
  },
  {
   "cell_type": "code",
   "execution_count": 7,
   "metadata": {},
   "outputs": [],
   "source": [
    "data_text = []\n",
    "for cluster in cluster_text_path:\n",
    "    cluster_data = {}\n",
    "    cluster_data[\"Article\"] = [format_data(x) for x in glob(cluster+\"/*\")]\n",
    "    data_text.append(cluster_data)"
   ]
  },
  {
   "cell_type": "code",
   "execution_count": 8,
   "metadata": {},
   "outputs": [
    {
     "name": "stdout",
     "output_type": "stream",
     "text": [
      "300\n"
     ]
    }
   ],
   "source": [
    "cluster_summary_path = sorted(glob(\"./data/ViMs/summary/*\"))\n",
    "print(len(cluster_summary_path))"
   ]
  },
  {
   "cell_type": "code",
   "execution_count": 9,
   "metadata": {},
   "outputs": [],
   "source": [
    "data_summary = []\n",
    "for cluster in cluster_summary_path:\n",
    "    cluster_data_train = [format_summary(x) for x in glob(cluster+\"/*\")]\n",
    "    data_summary.append(cluster_data_train)"
   ]
  },
  {
   "cell_type": "code",
   "execution_count": 10,
   "metadata": {},
   "outputs": [],
   "source": [
    "for i in range(300):\n",
    "    data_text[i][\"Abstractive\"] = data_summary[i]"
   ]
  },
  {
   "cell_type": "code",
   "execution_count": 11,
   "metadata": {},
   "outputs": [
    {
     "data": {
      "text/plain": [
       "dict_keys(['Article', 'Abstractive'])"
      ]
     },
     "execution_count": 11,
     "metadata": {},
     "output_type": "execute_result"
    }
   ],
   "source": [
    "data_text[0].keys()"
   ]
  },
  {
   "cell_type": "code",
   "execution_count": 12,
   "metadata": {},
   "outputs": [],
   "source": [
    "review_data = pd.DataFrame(data_text)"
   ]
  },
  {
   "cell_type": "code",
   "execution_count": 13,
   "metadata": {},
   "outputs": [
    {
     "data": {
      "text/html": [
       "<div>\n",
       "<style scoped>\n",
       "    .dataframe tbody tr th:only-of-type {\n",
       "        vertical-align: middle;\n",
       "    }\n",
       "\n",
       "    .dataframe tbody tr th {\n",
       "        vertical-align: top;\n",
       "    }\n",
       "\n",
       "    .dataframe thead th {\n",
       "        text-align: right;\n",
       "    }\n",
       "</style>\n",
       "<table border=\"1\" class=\"dataframe\">\n",
       "  <thead>\n",
       "    <tr style=\"text-align: right;\">\n",
       "      <th></th>\n",
       "      <th>Article</th>\n",
       "      <th>Abstractive</th>\n",
       "    </tr>\n",
       "  </thead>\n",
       "  <tbody>\n",
       "    <tr>\n",
       "      <th>0</th>\n",
       "      <td>[{'Title': 'Danh tính một số nạn nhân mất tích...</td>\n",
       "      <td>[[Máy bay mang số hiệu MS804 của EgyptAir gặp ...</td>\n",
       "    </tr>\n",
       "    <tr>\n",
       "      <th>1</th>\n",
       "      <td>[{'Title': 'Bà Hillary tuyên bố thắng cuộc đua...</td>\n",
       "      <td>[[Trong bài phỏng vấn với đài CNN của Mỹ hôm 1...</td>\n",
       "    </tr>\n",
       "    <tr>\n",
       "      <th>2</th>\n",
       "      <td>[{'Title': 'Nhà lãnh đạo Đài Loan Thái Anh Văn...</td>\n",
       "      <td>[[Bà Thái Anh Văn, 59 tuổi, Chủ tịch đảng Dân ...</td>\n",
       "    </tr>\n",
       "    <tr>\n",
       "      <th>3</th>\n",
       "      <td>[{'Title': 'Cần chặn dòng người ồ ạt di cư vào...</td>\n",
       "      <td>[[\"Đất nước phải lo cho đầu tàu này chạy để ké...</td>\n",
       "    </tr>\n",
       "    <tr>\n",
       "      <th>4</th>\n",
       "      <td>[{'Title': 'Hội Nghề cá đề nghị đẩy nhanh việc...</td>\n",
       "      <td>[[Hội nghề cá Việt Nam vừa có công văn đề nghị...</td>\n",
       "    </tr>\n",
       "    <tr>\n",
       "      <th>...</th>\n",
       "      <td>...</td>\n",
       "      <td>...</td>\n",
       "    </tr>\n",
       "    <tr>\n",
       "      <th>295</th>\n",
       "      <td>[{'Title': 'Giám đốc Sở Xây dựng Hải Phòng bổ ...</td>\n",
       "      <td>[[Ngày 2/6, UBND TP Hải Phòng cho biết, đã yêu...</td>\n",
       "    </tr>\n",
       "    <tr>\n",
       "      <th>296</th>\n",
       "      <td>[{'Title': 'Bắt khẩn cấp đối tượng hiếp dâm cư...</td>\n",
       "      <td>[[Chiều nay (3/6), tin từ Công an tỉnh Hà Nam ...</td>\n",
       "    </tr>\n",
       "    <tr>\n",
       "      <th>297</th>\n",
       "      <td>[{'Title': 'Tại sân bay Domodedovo chiếc máy...</td>\n",
       "      <td>[[Sự cố xảy ra khi chiếc máy bay Airbus 319 củ...</td>\n",
       "    </tr>\n",
       "    <tr>\n",
       "      <th>298</th>\n",
       "      <td>[{'Title': 'Hỏng đường băng, Cảng hàng không B...</td>\n",
       "      <td>[[Có mặt tại Cảng hàng không Buôn Ma Thuột, PV...</td>\n",
       "    </tr>\n",
       "    <tr>\n",
       "      <th>299</th>\n",
       "      <td>[{'Title': 'Đã khắc phục xong sự cố hỏng đường...</td>\n",
       "      <td>[[Trước đó, vào lúc 5 giờ 52 phút cùng ngày, t...</td>\n",
       "    </tr>\n",
       "  </tbody>\n",
       "</table>\n",
       "<p>300 rows × 2 columns</p>\n",
       "</div>"
      ],
      "text/plain": [
       "                                               Article  \\\n",
       "0    [{'Title': 'Danh tính một số nạn nhân mất tích...   \n",
       "1    [{'Title': 'Bà Hillary tuyên bố thắng cuộc đua...   \n",
       "2    [{'Title': 'Nhà lãnh đạo Đài Loan Thái Anh Văn...   \n",
       "3    [{'Title': 'Cần chặn dòng người ồ ạt di cư vào...   \n",
       "4    [{'Title': 'Hội Nghề cá đề nghị đẩy nhanh việc...   \n",
       "..                                                 ...   \n",
       "295  [{'Title': 'Giám đốc Sở Xây dựng Hải Phòng bổ ...   \n",
       "296  [{'Title': 'Bắt khẩn cấp đối tượng hiếp dâm cư...   \n",
       "297  [{'Title': 'Tại sân bay Domodedovo chiếc máy...   \n",
       "298  [{'Title': 'Hỏng đường băng, Cảng hàng không B...   \n",
       "299  [{'Title': 'Đã khắc phục xong sự cố hỏng đường...   \n",
       "\n",
       "                                           Abstractive  \n",
       "0    [[Máy bay mang số hiệu MS804 của EgyptAir gặp ...  \n",
       "1    [[Trong bài phỏng vấn với đài CNN của Mỹ hôm 1...  \n",
       "2    [[Bà Thái Anh Văn, 59 tuổi, Chủ tịch đảng Dân ...  \n",
       "3    [[\"Đất nước phải lo cho đầu tàu này chạy để ké...  \n",
       "4    [[Hội nghề cá Việt Nam vừa có công văn đề nghị...  \n",
       "..                                                 ...  \n",
       "295  [[Ngày 2/6, UBND TP Hải Phòng cho biết, đã yêu...  \n",
       "296  [[Chiều nay (3/6), tin từ Công an tỉnh Hà Nam ...  \n",
       "297  [[Sự cố xảy ra khi chiếc máy bay Airbus 319 củ...  \n",
       "298  [[Có mặt tại Cảng hàng không Buôn Ma Thuột, PV...  \n",
       "299  [[Trước đó, vào lúc 5 giờ 52 phút cùng ngày, t...  \n",
       "\n",
       "[300 rows x 2 columns]"
      ]
     },
     "execution_count": 13,
     "metadata": {},
     "output_type": "execute_result"
    }
   ],
   "source": [
    "review_data"
   ]
  },
  {
   "cell_type": "code",
   "execution_count": 15,
   "metadata": {},
   "outputs": [
    {
     "data": {
      "text/plain": [
       "['Pascal Hess, người Pháp là một trong số 66 người, trong đó có 15 công dân Pháp, được cho là đã chết khi chuyến bay MS804 của Hãng hàng không Ai Cập biến mất trên đường đến Cairo hôm 19-5.\\n',\n",
       " 'Bạn bè của Hess cho biết, ông ấy gần như không thể đáp được chuyến bay MS804 của EgyptAir vì bị mất hộ chiếu.\\n',\n",
       " '“Hess, một người mê bóng chuyền và là nhiếp ảnh gia đến từ Evreux ở Normandy đã không ngủ 3 ngày vì ông vô cùng lo lắng khi hộ chiếu của mình bị mất mà chưa được tìm thấy. Cho đến khi có một người nhìn thấy nó trên đường phố, và đem trả cho Hess, khi đó Hess lại lưỡng lự không muốn đi nữa. Ông ấy rời Paris để đi nghỉ 10 ngày trên Biển Đỏ của Ai Cập một cách miễn cưỡng\", một người bạn của Hess nói với tờ báo Pháp ngữ địa phương, La Depeche.\\n',\n",
       " 'Ông Ahmed Helal, Giám đốc Công ty Procter và Gamble ở thành phố Amien, Pháp, và một gia đình người Pháp gồm 2 trẻ nhỏ, một người ông 74 tuổi tên là Pierre Heslouin đến từ Nogent-sur-Marne cũng được cho là thiệt mạng trong vụ máy bay mất tích bí ẩn này.\\n',\n",
       " 'Theo The Telegraph, một người Anh có tên là Richard Osman, 40 tuổi, cũng được cho là không còn sống. Ông vừa mới trở thành người cha lần thứ hai với người vợ Pháp Aurelie. Con gái ông là Olympe mới khoảng một tháng tuổi.\\n',\n",
       " 'Theo CNN, một người cha của bốn đứa con, Joao David e Silva, là một trong những người được biết đã có mặt trên chuyến bay đó.\\n',\n",
       " 'Silva đang làm việc cho công ty xây dựng Mota-Engil ở Bồ Đào Nha. Ông ấy được bố trí ở Johannesburg vì công việc của mình mặc dù gia đình ông vẫn sống ở Lisbon, nguồn tin chính phủ Bồ Đào Nha cho biết.\\n',\n",
       " 'AP đưa tin rằng, một học sinh đến từ Chad đang học tại một trường học ở Pháp, cũng là một trong số các hành khách được cho là đã thiệt mạng.\\n',\n",
       " 'Một người khác tên là Abdulmohsen al-Muteiri, người Kuwait, một giáo sư kinh tế, đang trên đường đi dự một hội nghị. Ông cũng đã từng giữ những vị trí cấp cao trong chính phủ Kuwait.\\n',\n",
       " 'Một hành khách khác là một người Ai Cập đang trên đường trở về nhà, sau khi trải qua một đợt điều trị bệnh tại Pháp, theo AP.\\n',\n",
       " 'EgyptAir vẫn chưa công bố tên của những người rất có thể đã chết trên chuyến bay đã được nhìn thấy lần cuối trên Địa Trung Hải.\\n',\n",
       " 'Chuyến bay của EgyptAir mang số hiệu MS804 xuất phát lúc 23h09 đêm 18-5 từ Paris đến Hy Lạp. Thời gian hạ cánh dự kiến vào lúc 3h15 sáng ngày hôm sau, tuy nhiên nó đã biến mất khỏi màn hình rada theo dõi vào khoảng 30 phút trước giờ đó.\\n',\n",
       " 'Theo BBC, một cuộc điều tra quy mô lớn đang được tiến hành sau khi chiếc A320 của hãng hàng không Ai Cập biến mất cùng 69 người trên khoang vào sáng sớm hôm 19-5.\\n']"
      ]
     },
     "execution_count": 15,
     "metadata": {},
     "output_type": "execute_result"
    }
   ],
   "source": [
    "data_text[0][\"Article\"][0][\"Content\"]"
   ]
  },
  {
   "cell_type": "code",
   "execution_count": 19,
   "metadata": {},
   "outputs": [
    {
     "data": {
      "text/plain": [
       "'Máy bay mang số hiệu MS804 của EgyptAir gặp nạn sáng nay 19/5 khi đang trên đường từ Paris đến Cairo của Ai Cập, mang theo 66 người trong đó chủ yếu là công dân Ai Cập.'"
      ]
     },
     "execution_count": 19,
     "metadata": {},
     "output_type": "execute_result"
    }
   ],
   "source": [
    "data_text[0][\"Abstractive\"][0][0]"
   ]
  },
  {
   "cell_type": "code",
   "execution_count": null,
   "metadata": {},
   "outputs": [],
   "source": []
  }
 ],
 "metadata": {
  "interpreter": {
   "hash": "31f2aee4e71d21fbe5cf8b01ff0e069b9275f58929596ceb00d14d90e3e16cd6"
  },
  "kernelspec": {
   "display_name": "Python 3.6.9 64-bit",
   "name": "python3"
  },
  "language_info": {
   "codemirror_mode": {
    "name": "ipython",
    "version": 3
   },
   "file_extension": ".py",
   "mimetype": "text/x-python",
   "name": "python",
   "nbconvert_exporter": "python",
   "pygments_lexer": "ipython3",
   "version": "3.6.9"
  },
  "orig_nbformat": 4
 },
 "nbformat": 4,
 "nbformat_minor": 2
}
