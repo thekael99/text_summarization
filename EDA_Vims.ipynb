{
 "cells": [
  {
   "cell_type": "code",
   "execution_count": 89,
   "metadata": {},
   "outputs": [],
   "source": [
    "import pandas as pd\n",
    "import numpy as np\n",
    "\n",
    "import matplotlib.pyplot as plt\n",
    "from matplotlib.patches import Patch\n",
    "from matplotlib.markers import MarkerStyle\n",
    "import seaborn as sns\n",
    "\n",
    "from glob import glob\n",
    "from functools import reduce\n",
    "import re"
   ]
  },
  {
   "cell_type": "code",
   "execution_count": 90,
   "metadata": {},
   "outputs": [],
   "source": [
    "def format_data(path):\n",
    "    f = open(path, \"r\")\n",
    "    content = f.readlines()\n",
    "    f.close()\n",
    "    content_dict = {}\n",
    "    content_dict[\"Title\"] = content[0][7:-1]\n",
    "    content_dict[\"Tags\"] = content[5][6:-1]\n",
    "    content_dict[\"Summary\"] = content[6][9:-1]\n",
    "    content_dict[\"Content\"] = reduce(lambda x,y: x+y, content[8:])   \n",
    "\n",
    "    return content_dict"
   ]
  },
  {
   "cell_type": "code",
   "execution_count": 91,
   "metadata": {},
   "outputs": [],
   "source": [
    "def format_summary(path):\n",
    "    f = open(path, \"r\")\n",
    "    content = f.readlines()\n",
    "    f.close()\n",
    "    res = [x.rstrip(\"\\n\") for x in content]\n",
    "    res = [x for x in res if len(x)>0]\n",
    "    return res"
   ]
  },
  {
   "cell_type": "code",
   "execution_count": 92,
   "metadata": {},
   "outputs": [
    {
     "name": "stdout",
     "output_type": "stream",
     "text": [
      "300\n"
     ]
    }
   ],
   "source": [
    "cluster_text_path = sorted(glob(\"./data/ViMs/original/*/*\"))\n",
    "print(len(cluster_text_path))"
   ]
  },
  {
   "cell_type": "code",
   "execution_count": 93,
   "metadata": {},
   "outputs": [
    {
     "name": "stdout",
     "output_type": "stream",
     "text": [
      "1945\n"
     ]
    }
   ],
   "source": [
    "print(len(glob(\"./data/ViMs/original/*/*/*\")))"
   ]
  },
  {
   "cell_type": "code",
   "execution_count": 94,
   "metadata": {},
   "outputs": [],
   "source": [
    "data_text = []\n",
    "for cluster in cluster_text_path:\n",
    "    cluster_data = {}\n",
    "    cluster_data[\"Article\"] = [format_data(x) for x in glob(cluster+\"/*\")]\n",
    "    data_text.append(cluster_data)"
   ]
  },
  {
   "cell_type": "code",
   "execution_count": 95,
   "metadata": {},
   "outputs": [
    {
     "name": "stdout",
     "output_type": "stream",
     "text": [
      "300\n"
     ]
    }
   ],
   "source": [
    "cluster_summary_path = sorted(glob(\"./data/ViMs/summary/*\"))\n",
    "print(len(cluster_summary_path))"
   ]
  },
  {
   "cell_type": "code",
   "execution_count": 96,
   "metadata": {},
   "outputs": [],
   "source": [
    "data_summary = []\n",
    "for cluster in cluster_summary_path:\n",
    "    cluster_data_train = [format_summary(x) for x in glob(cluster+\"/*\")]\n",
    "    data_summary.append(cluster_data_train)"
   ]
  },
  {
   "cell_type": "code",
   "execution_count": 97,
   "metadata": {},
   "outputs": [],
   "source": [
    "for i in range(300):\n",
    "    data_text[i][\"Abstractive\"] = data_summary[i]"
   ]
  },
  {
   "cell_type": "code",
   "execution_count": 98,
   "metadata": {},
   "outputs": [
    {
     "data": {
      "text/plain": [
       "dict_keys(['Article', 'Abstractive'])"
      ]
     },
     "execution_count": 98,
     "metadata": {},
     "output_type": "execute_result"
    }
   ],
   "source": [
    "data_text[0].keys()"
   ]
  },
  {
   "cell_type": "code",
   "execution_count": 99,
   "metadata": {},
   "outputs": [],
   "source": [
    "review_data = pd.DataFrame(data_text)"
   ]
  },
  {
   "cell_type": "code",
   "execution_count": 100,
   "metadata": {},
   "outputs": [
    {
     "data": {
      "text/html": [
       "<div>\n",
       "<style scoped>\n",
       "    .dataframe tbody tr th:only-of-type {\n",
       "        vertical-align: middle;\n",
       "    }\n",
       "\n",
       "    .dataframe tbody tr th {\n",
       "        vertical-align: top;\n",
       "    }\n",
       "\n",
       "    .dataframe thead th {\n",
       "        text-align: right;\n",
       "    }\n",
       "</style>\n",
       "<table border=\"1\" class=\"dataframe\">\n",
       "  <thead>\n",
       "    <tr style=\"text-align: right;\">\n",
       "      <th></th>\n",
       "      <th>Article</th>\n",
       "      <th>Abstractive</th>\n",
       "    </tr>\n",
       "  </thead>\n",
       "  <tbody>\n",
       "    <tr>\n",
       "      <th>0</th>\n",
       "      <td>[{'Title': 'Danh tính một số nạn nhân mất tích...</td>\n",
       "      <td>[[Máy bay mang số hiệu MS804 của EgyptAir gặp ...</td>\n",
       "    </tr>\n",
       "    <tr>\n",
       "      <th>1</th>\n",
       "      <td>[{'Title': 'Bà Hillary tuyên bố thắng cuộc đua...</td>\n",
       "      <td>[[Trong bài phỏng vấn với đài CNN của Mỹ hôm 1...</td>\n",
       "    </tr>\n",
       "    <tr>\n",
       "      <th>2</th>\n",
       "      <td>[{'Title': 'Nhà lãnh đạo Đài Loan Thái Anh Văn...</td>\n",
       "      <td>[[Bà Thái Anh Văn, 59 tuổi, Chủ tịch đảng Dân ...</td>\n",
       "    </tr>\n",
       "    <tr>\n",
       "      <th>3</th>\n",
       "      <td>[{'Title': 'Cần chặn dòng người ồ ạt di cư vào...</td>\n",
       "      <td>[[\"Đất nước phải lo cho đầu tàu này chạy để ké...</td>\n",
       "    </tr>\n",
       "    <tr>\n",
       "      <th>4</th>\n",
       "      <td>[{'Title': 'Hội Nghề cá đề nghị đẩy nhanh việc...</td>\n",
       "      <td>[[Hội nghề cá Việt Nam vừa có công văn đề nghị...</td>\n",
       "    </tr>\n",
       "    <tr>\n",
       "      <th>...</th>\n",
       "      <td>...</td>\n",
       "      <td>...</td>\n",
       "    </tr>\n",
       "    <tr>\n",
       "      <th>295</th>\n",
       "      <td>[{'Title': 'Giám đốc Sở Xây dựng Hải Phòng bổ ...</td>\n",
       "      <td>[[Ngày 2/6, UBND TP Hải Phòng cho biết, đã yêu...</td>\n",
       "    </tr>\n",
       "    <tr>\n",
       "      <th>296</th>\n",
       "      <td>[{'Title': 'Bắt khẩn cấp đối tượng hiếp dâm cư...</td>\n",
       "      <td>[[Chiều nay (3/6), tin từ Công an tỉnh Hà Nam ...</td>\n",
       "    </tr>\n",
       "    <tr>\n",
       "      <th>297</th>\n",
       "      <td>[{'Title': 'Tại sân bay Domodedovo chiếc máy...</td>\n",
       "      <td>[[Sự cố xảy ra khi chiếc máy bay Airbus 319 củ...</td>\n",
       "    </tr>\n",
       "    <tr>\n",
       "      <th>298</th>\n",
       "      <td>[{'Title': 'Hỏng đường băng, Cảng hàng không B...</td>\n",
       "      <td>[[Có mặt tại Cảng hàng không Buôn Ma Thuột, PV...</td>\n",
       "    </tr>\n",
       "    <tr>\n",
       "      <th>299</th>\n",
       "      <td>[{'Title': 'Đã khắc phục xong sự cố hỏng đường...</td>\n",
       "      <td>[[Trước đó, vào lúc 5 giờ 52 phút cùng ngày, t...</td>\n",
       "    </tr>\n",
       "  </tbody>\n",
       "</table>\n",
       "<p>300 rows × 2 columns</p>\n",
       "</div>"
      ],
      "text/plain": [
       "                                               Article  \\\n",
       "0    [{'Title': 'Danh tính một số nạn nhân mất tích...   \n",
       "1    [{'Title': 'Bà Hillary tuyên bố thắng cuộc đua...   \n",
       "2    [{'Title': 'Nhà lãnh đạo Đài Loan Thái Anh Văn...   \n",
       "3    [{'Title': 'Cần chặn dòng người ồ ạt di cư vào...   \n",
       "4    [{'Title': 'Hội Nghề cá đề nghị đẩy nhanh việc...   \n",
       "..                                                 ...   \n",
       "295  [{'Title': 'Giám đốc Sở Xây dựng Hải Phòng bổ ...   \n",
       "296  [{'Title': 'Bắt khẩn cấp đối tượng hiếp dâm cư...   \n",
       "297  [{'Title': 'Tại sân bay Domodedovo chiếc máy...   \n",
       "298  [{'Title': 'Hỏng đường băng, Cảng hàng không B...   \n",
       "299  [{'Title': 'Đã khắc phục xong sự cố hỏng đường...   \n",
       "\n",
       "                                           Abstractive  \n",
       "0    [[Máy bay mang số hiệu MS804 của EgyptAir gặp ...  \n",
       "1    [[Trong bài phỏng vấn với đài CNN của Mỹ hôm 1...  \n",
       "2    [[Bà Thái Anh Văn, 59 tuổi, Chủ tịch đảng Dân ...  \n",
       "3    [[\"Đất nước phải lo cho đầu tàu này chạy để ké...  \n",
       "4    [[Hội nghề cá Việt Nam vừa có công văn đề nghị...  \n",
       "..                                                 ...  \n",
       "295  [[Ngày 2/6, UBND TP Hải Phòng cho biết, đã yêu...  \n",
       "296  [[Chiều nay (3/6), tin từ Công an tỉnh Hà Nam ...  \n",
       "297  [[Sự cố xảy ra khi chiếc máy bay Airbus 319 củ...  \n",
       "298  [[Có mặt tại Cảng hàng không Buôn Ma Thuột, PV...  \n",
       "299  [[Trước đó, vào lúc 5 giờ 52 phút cùng ngày, t...  \n",
       "\n",
       "[300 rows x 2 columns]"
      ]
     },
     "execution_count": 100,
     "metadata": {},
     "output_type": "execute_result"
    }
   ],
   "source": [
    "review_data"
   ]
  },
  {
   "cell_type": "code",
   "execution_count": 101,
   "metadata": {},
   "outputs": [
    {
     "data": {
      "text/plain": [
       "dict_keys(['Title', 'Tags', 'Summary', 'Content'])"
      ]
     },
     "execution_count": 101,
     "metadata": {},
     "output_type": "execute_result"
    }
   ],
   "source": [
    "data_text[0][\"Article\"][0].keys()"
   ]
  },
  {
   "cell_type": "code",
   "execution_count": 102,
   "metadata": {},
   "outputs": [
    {
     "data": {
      "text/plain": [
       "{'Title': 'Danh tính một số nạn nhân mất tích cùng máy bay MS804 của Ai Cập',\n",
       " 'Tags': 'máy bay, chính phủ, thiệt mạng, Associated Press, nỗ lực, nguồn tin, Pháp, chuyến bay',\n",
       " 'Summary': 'Vụ biến mất bí ẩn của chuyến bay MS804 trên đường từ Paris tới Cairo hôm qua (19-5) được cho là vụ tai nạn máy mới nhất trong số một loạt vụ việc nghiêm trọng xảy ra thời gian gần đây. Hiện các nhà điều tra đang nỗ lực làm rõ những gì đã xảy ra với chiếc máy bay Airbus A320 của Hãng hàng không Ai Cập.',\n",
       " 'Content': 'Pascal Hess, người Pháp là một trong số 66 người, trong đó có 15 công dân Pháp, được cho là đã chết khi chuyến bay MS804 của Hãng hàng không Ai Cập biến mất trên đường đến Cairo hôm 19-5.\\nBạn bè của Hess cho biết, ông ấy gần như không thể đáp được chuyến bay MS804 của EgyptAir vì bị mất hộ chiếu.\\n“Hess, một người mê bóng chuyền và là nhiếp ảnh gia đến từ Evreux ở Normandy đã không ngủ 3 ngày vì ông vô cùng lo lắng khi hộ chiếu của mình bị mất mà chưa được tìm thấy. Cho đến khi có một người nhìn thấy nó trên đường phố, và đem trả cho Hess, khi đó Hess lại lưỡng lự không muốn đi nữa. Ông ấy rời Paris để đi nghỉ 10 ngày trên Biển Đỏ của Ai Cập một cách miễn cưỡng\", một người bạn của Hess nói với tờ báo Pháp ngữ địa phương, La Depeche.\\nÔng Ahmed Helal, Giám đốc Công ty Procter và Gamble ở thành phố Amien, Pháp, và một gia đình người Pháp gồm 2 trẻ nhỏ, một người ông 74 tuổi tên là Pierre Heslouin đến từ Nogent-sur-Marne cũng được cho là thiệt mạng trong vụ máy bay mất tích bí ẩn này.\\nTheo The Telegraph, một người Anh có tên là Richard Osman, 40 tuổi, cũng được cho là không còn sống. Ông vừa mới trở thành người cha lần thứ hai với người vợ Pháp Aurelie. Con gái ông là Olympe mới khoảng một tháng tuổi.\\nTheo CNN, một người cha của bốn đứa con, Joao David e Silva, là một trong những người được biết đã có mặt trên chuyến bay đó.\\nSilva đang làm việc cho công ty xây dựng Mota-Engil ở Bồ Đào Nha. Ông ấy được bố trí ở Johannesburg vì công việc của mình mặc dù gia đình ông vẫn sống ở Lisbon, nguồn tin chính phủ Bồ Đào Nha cho biết.\\nAP đưa tin rằng, một học sinh đến từ Chad đang học tại một trường học ở Pháp, cũng là một trong số các hành khách được cho là đã thiệt mạng.\\nMột người khác tên là Abdulmohsen al-Muteiri, người Kuwait, một giáo sư kinh tế, đang trên đường đi dự một hội nghị. Ông cũng đã từng giữ những vị trí cấp cao trong chính phủ Kuwait.\\nMột hành khách khác là một người Ai Cập đang trên đường trở về nhà, sau khi trải qua một đợt điều trị bệnh tại Pháp, theo AP.\\nEgyptAir vẫn chưa công bố tên của những người rất có thể đã chết trên chuyến bay đã được nhìn thấy lần cuối trên Địa Trung Hải.\\nChuyến bay của EgyptAir mang số hiệu MS804 xuất phát lúc 23h09 đêm 18-5 từ Paris đến Hy Lạp. Thời gian hạ cánh dự kiến vào lúc 3h15 sáng ngày hôm sau, tuy nhiên nó đã biến mất khỏi màn hình rada theo dõi vào khoảng 30 phút trước giờ đó.\\nTheo BBC, một cuộc điều tra quy mô lớn đang được tiến hành sau khi chiếc A320 của hãng hàng không Ai Cập biến mất cùng 69 người trên khoang vào sáng sớm hôm 19-5.\\n'}"
      ]
     },
     "execution_count": 102,
     "metadata": {},
     "output_type": "execute_result"
    }
   ],
   "source": [
    "data_text[0][\"Article\"][0]"
   ]
  },
  {
   "cell_type": "code",
   "execution_count": 103,
   "metadata": {},
   "outputs": [
    {
     "data": {
      "text/plain": [
       "'Máy bay mang số hiệu MS804 của EgyptAir gặp nạn sáng nay 19/5 khi đang trên đường từ Paris đến Cairo của Ai Cập, mang theo 66 người trong đó chủ yếu là công dân Ai Cập.'"
      ]
     },
     "execution_count": 103,
     "metadata": {},
     "output_type": "execute_result"
    }
   ],
   "source": [
    "data_text[0][\"Abstractive\"][0][0]"
   ]
  },
  {
   "cell_type": "code",
   "execution_count": 104,
   "metadata": {},
   "outputs": [],
   "source": [
    "article = glob(\"./data/ViMs/original/*/*/*\")\n",
    "data = [format_data(x) for x in article]"
   ]
  },
  {
   "cell_type": "code",
   "execution_count": 105,
   "metadata": {},
   "outputs": [
    {
     "data": {
      "text/plain": [
       "1945"
      ]
     },
     "execution_count": 105,
     "metadata": {},
     "output_type": "execute_result"
    }
   ],
   "source": [
    "len(article)"
   ]
  },
  {
   "cell_type": "code",
   "execution_count": 106,
   "metadata": {},
   "outputs": [
    {
     "data": {
      "text/plain": [
       "10"
      ]
     },
     "execution_count": 106,
     "metadata": {},
     "output_type": "execute_result"
    }
   ],
   "source": [
    "len(data_text[0][\"Article\"])"
   ]
  },
  {
   "cell_type": "code",
   "execution_count": 107,
   "metadata": {},
   "outputs": [
    {
     "data": {
      "text/plain": [
       "{'Title': 'Danh tính một số nạn nhân mất tích cùng máy bay MS804 của Ai Cập',\n",
       " 'Tags': 'máy bay, chính phủ, thiệt mạng, Associated Press, nỗ lực, nguồn tin, Pháp, chuyến bay',\n",
       " 'Summary': 'Vụ biến mất bí ẩn của chuyến bay MS804 trên đường từ Paris tới Cairo hôm qua (19-5) được cho là vụ tai nạn máy mới nhất trong số một loạt vụ việc nghiêm trọng xảy ra thời gian gần đây. Hiện các nhà điều tra đang nỗ lực làm rõ những gì đã xảy ra với chiếc máy bay Airbus A320 của Hãng hàng không Ai Cập.',\n",
       " 'Content': 'Pascal Hess, người Pháp là một trong số 66 người, trong đó có 15 công dân Pháp, được cho là đã chết khi chuyến bay MS804 của Hãng hàng không Ai Cập biến mất trên đường đến Cairo hôm 19-5.\\nBạn bè của Hess cho biết, ông ấy gần như không thể đáp được chuyến bay MS804 của EgyptAir vì bị mất hộ chiếu.\\n“Hess, một người mê bóng chuyền và là nhiếp ảnh gia đến từ Evreux ở Normandy đã không ngủ 3 ngày vì ông vô cùng lo lắng khi hộ chiếu của mình bị mất mà chưa được tìm thấy. Cho đến khi có một người nhìn thấy nó trên đường phố, và đem trả cho Hess, khi đó Hess lại lưỡng lự không muốn đi nữa. Ông ấy rời Paris để đi nghỉ 10 ngày trên Biển Đỏ của Ai Cập một cách miễn cưỡng\", một người bạn của Hess nói với tờ báo Pháp ngữ địa phương, La Depeche.\\nÔng Ahmed Helal, Giám đốc Công ty Procter và Gamble ở thành phố Amien, Pháp, và một gia đình người Pháp gồm 2 trẻ nhỏ, một người ông 74 tuổi tên là Pierre Heslouin đến từ Nogent-sur-Marne cũng được cho là thiệt mạng trong vụ máy bay mất tích bí ẩn này.\\nTheo The Telegraph, một người Anh có tên là Richard Osman, 40 tuổi, cũng được cho là không còn sống. Ông vừa mới trở thành người cha lần thứ hai với người vợ Pháp Aurelie. Con gái ông là Olympe mới khoảng một tháng tuổi.\\nTheo CNN, một người cha của bốn đứa con, Joao David e Silva, là một trong những người được biết đã có mặt trên chuyến bay đó.\\nSilva đang làm việc cho công ty xây dựng Mota-Engil ở Bồ Đào Nha. Ông ấy được bố trí ở Johannesburg vì công việc của mình mặc dù gia đình ông vẫn sống ở Lisbon, nguồn tin chính phủ Bồ Đào Nha cho biết.\\nAP đưa tin rằng, một học sinh đến từ Chad đang học tại một trường học ở Pháp, cũng là một trong số các hành khách được cho là đã thiệt mạng.\\nMột người khác tên là Abdulmohsen al-Muteiri, người Kuwait, một giáo sư kinh tế, đang trên đường đi dự một hội nghị. Ông cũng đã từng giữ những vị trí cấp cao trong chính phủ Kuwait.\\nMột hành khách khác là một người Ai Cập đang trên đường trở về nhà, sau khi trải qua một đợt điều trị bệnh tại Pháp, theo AP.\\nEgyptAir vẫn chưa công bố tên của những người rất có thể đã chết trên chuyến bay đã được nhìn thấy lần cuối trên Địa Trung Hải.\\nChuyến bay của EgyptAir mang số hiệu MS804 xuất phát lúc 23h09 đêm 18-5 từ Paris đến Hy Lạp. Thời gian hạ cánh dự kiến vào lúc 3h15 sáng ngày hôm sau, tuy nhiên nó đã biến mất khỏi màn hình rada theo dõi vào khoảng 30 phút trước giờ đó.\\nTheo BBC, một cuộc điều tra quy mô lớn đang được tiến hành sau khi chiếc A320 của hãng hàng không Ai Cập biến mất cùng 69 người trên khoang vào sáng sớm hôm 19-5.\\n'}"
      ]
     },
     "execution_count": 107,
     "metadata": {},
     "output_type": "execute_result"
    }
   ],
   "source": [
    "data_text[0][\"Article\"][0]"
   ]
  },
  {
   "cell_type": "code",
   "execution_count": 108,
   "metadata": {},
   "outputs": [
    {
     "data": {
      "text/plain": [
       "[['Máy bay mang số hiệu MS804 của EgyptAir gặp nạn sáng nay 19/5 khi đang trên đường từ Paris đến Cairo của Ai Cập, mang theo 66 người trong đó chủ yếu là công dân Ai Cập.',\n",
       "  'Máy bay MS804 mất liên lạc với mặt đất khi cách bờ biển phía bắc Ai Cập khoảng 280 km và không phát tín hiệu cầu cứu.',\n",
       "  'Theo Bộ trưởng Quốc phòng Hy Lạp Panos Kammenos, máy bay đã \"quay 90 độ sang trái và 360 độ sang phải, hạ độ cao từ 37.000 feet xuống 15.000 feet và mất tín hiệu ở độ cao 10.000 feet\" (khoảng 11 km).',\n",
       "  'Phó Chủ tịch EgyptAir, ông Ahmed Adel, không loại trừ khả năng máy bay bị đặt bom hoặc bị đe dọa từ bên trong.',\n",
       "  'Họ nghi ngờ một quả bom khiến máy bay nổ tung, sau đó rơi xuống biển.',\n",
       "  'Trên chiếc máy bay có 66 người bao gồm 7 thành viên phi hành đoàn, 3 nhân viên bảo vệ, 30 công dân Ai Cập, 17 công dân Pháp cũng như các công dân của Iraq, Arab Saudi và các nước khác.',\n",
       "  'Hiện giờ, các chuyên gia quốc tế và địa phương hầu hết đều nghiêng về giả thiết máy bay bị tấn công khủng bố.',\n",
       "  'Theo một báo cáo của Trung tâm Phòng chống Khủng bố (TCS, Mỹ), các nhóm khủng bố đến từ Yemen, Syria và Đông Phi đã và đang sáng tạo ra cách thức tuồn bom lên máy bay bằng cách qua mặt hệ thống kiểm tra an ninh.',\n",
       "  'Cũng có ý kiến cho rằng nhóm khủng bố Nhà nước Hồi giáo (IS) có liên quan đến thảm kịch này.'],\n",
       " ['Chiếc Airbus A320 (chuyến bay số hiệu MS804) bay từ thủ đô Paris đến thủ đô Cairo thì biến mất khỏi màn hình radar vào sáng sớm ngày 19.5.',\n",
       "  'Các chuyên gia hàng không lo ngại một hành động cố ý đã khiến máy bay biến mất khỏi màn hình radar.',\n",
       "  'Bộ trưởng Hàng không Ai Cập Sherif Fathy nghiêng về khả năng MS804 bị khủng bố nhiều hơn là trục trặc kỹ thuật.',\n",
       "  'Họ nghi ngờ một quả bom khiến máy bay nổ tung, sau đó rơi xuống biển.',\n",
       "  'Tổng thư ký Tổ chức Hiệp ước Bắc Đại Tây Dương Jens Stoltenberg cho biết sẽ hỗ trợ công tác tìm kiếm máy bay MS 804.',\n",
       "  'một cuộc điều tra quy mô lớn đang được tiến hành sau khi chiếc A320 biến mất.',\n",
       "  'Theo các nguồn tin, hải mảnh nhựa vỡ được tìm thấy có màu trắng và đỏ.',\n",
       "  'Những mảnh vỡ  được phát hiện ở gần khu vực nơi hệ thống định vị khẩn cấp trên máy bay đã phát tín hiệu trước đó.',\n",
       "  '66 người được cho là đã chết khi chuyến bay MS804 biến mất.',\n",
       "  'Ezeddin Samar là nữ tiếp viên có mặt trên chuyến bay MS804.',\n",
       "  'Ngay sau sự cố, có người phát hiện ra cô từng đăng ảnh bên cạnh một máy bay bị chìm.']]"
      ]
     },
     "execution_count": 108,
     "metadata": {},
     "output_type": "execute_result"
    }
   ],
   "source": [
    "data_text[0][\"Abstractive\"]"
   ]
  },
  {
   "cell_type": "code",
   "execution_count": 109,
   "metadata": {},
   "outputs": [],
   "source": [
    "view_data = pd.DataFrame(data)"
   ]
  },
  {
   "cell_type": "code",
   "execution_count": 110,
   "metadata": {},
   "outputs": [
    {
     "data": {
      "text/html": [
       "<div>\n",
       "<style scoped>\n",
       "    .dataframe tbody tr th:only-of-type {\n",
       "        vertical-align: middle;\n",
       "    }\n",
       "\n",
       "    .dataframe tbody tr th {\n",
       "        vertical-align: top;\n",
       "    }\n",
       "\n",
       "    .dataframe thead th {\n",
       "        text-align: right;\n",
       "    }\n",
       "</style>\n",
       "<table border=\"1\" class=\"dataframe\">\n",
       "  <thead>\n",
       "    <tr style=\"text-align: right;\">\n",
       "      <th></th>\n",
       "      <th>Title</th>\n",
       "      <th>Tags</th>\n",
       "      <th>Summary</th>\n",
       "      <th>Content</th>\n",
       "    </tr>\n",
       "  </thead>\n",
       "  <tbody>\n",
       "    <tr>\n",
       "      <th>0</th>\n",
       "      <td>Vướng dây điện khi đi xe đạp, bé trai chết thảm</td>\n",
       "      <td>điện giật tử vong, bé trai tử vong, cháu bé tử...</td>\n",
       "      <td>Sau khi kết thúc năm học, cháu bé được bố mẹ đ...</td>\n",
       "      <td>Ngày 1/6, trao đổi với PV Dân trí, lãnh đạo xã...</td>\n",
       "    </tr>\n",
       "    <tr>\n",
       "      <th>1</th>\n",
       "      <td>Bé trai 11 tuổi bị điện giật chết, chủ nhà hàn...</td>\n",
       "      <td>điện giật chết, điện giật tử vong, tai nạn thư...</td>\n",
       "      <td>Chủ nhà hàng Ba Cơ nhận trách nhiệm về vụ việc...</td>\n",
       "      <td>Chiều 1.6, ông Nguyễn Thanh Bình, Chủ tịch UBN...</td>\n",
       "    </tr>\n",
       "    <tr>\n",
       "      <th>2</th>\n",
       "      <td>Bị điện giật chơi ở công viên, cháu bé 11 tuổi...</td>\n",
       "      <td>điện giật, công viên, nhà hàng, Quảng Nam</td>\n",
       "      <td>Trong lúc đạp xe chơi ở công viên, em Nguyễn T...</td>\n",
       "      <td>Tin nhanh ngày 1/6, ông Đỗ Ngọc Vĩnh (Phó Công...</td>\n",
       "    </tr>\n",
       "    <tr>\n",
       "      <th>3</th>\n",
       "      <td>Vụ bé trai bị điện giật tử vong: Chủ nhà hàng ...</td>\n",
       "      <td>công an, điều tra, làm rõ, nạn nhân, đường dây...</td>\n",
       "      <td>Liên quan tới vụ bé trai tử vong do vướng dây ...</td>\n",
       "      <td>Đến sáng 1/6, gia đình em Nguyễn Thành Công (S...</td>\n",
       "    </tr>\n",
       "    <tr>\n",
       "      <th>4</th>\n",
       "      <td>Bé trai tử vong do vướng dây điện nhà hàng</td>\n",
       "      <td>điện giật, nhà hàng, TP Tam Kỳ</td>\n",
       "      <td>Ngày 1-6, ông Nguyễn Thanh Bình - chủ tịch UBN...</td>\n",
       "      <td>Trước đó, em Nguyễn Thành Công (trú tại TP.HCM...</td>\n",
       "    </tr>\n",
       "    <tr>\n",
       "      <th>...</th>\n",
       "      <td>...</td>\n",
       "      <td>...</td>\n",
       "      <td>...</td>\n",
       "      <td>...</td>\n",
       "    </tr>\n",
       "    <tr>\n",
       "      <th>1940</th>\n",
       "      <td>Adele, The Weekend thắng lớn tại lễ trao giải ...</td>\n",
       "      <td>âm nhạc, giải thưởng, billboard, Adele, The we...</td>\n",
       "      <td>Dù vắng mặt tại sự kiện âm nhạc hàng đầu thế g...</td>\n",
       "      <td>Adele là nữ nghệ sĩ nhận được tám đề cử tại lễ...</td>\n",
       "    </tr>\n",
       "    <tr>\n",
       "      <th>1941</th>\n",
       "      <td>Adele và The Weeknd thâu tóm hết danh hiệu qua...</td>\n",
       "      <td>Adele, The Weeknd, Justin Bielber, Taylor Swif...</td>\n",
       "      <td>Rạng sáng nay (23/5) theo giờ Việt Nam, lễ tra...</td>\n",
       "      <td>Đêm trao giải đã khiến NHM thỏa mãn lòng mong ...</td>\n",
       "    </tr>\n",
       "    <tr>\n",
       "      <th>1942</th>\n",
       "      <td>Adele gây bất ngờ khi ẵm trọn giải thưởng lớn ...</td>\n",
       "      <td>adele, Taylor Swift</td>\n",
       "      <td>Album \"25\" thực sự là bom tấn khi giúp \"họa mi...</td>\n",
       "      <td>Lễ trao giải Billboard Music Awards lần thứ 24...</td>\n",
       "    </tr>\n",
       "    <tr>\n",
       "      <th>1943</th>\n",
       "      <td>Adele thắng đậm giải thưởng Billboard 2016</td>\n",
       "      <td></td>\n",
       "      <td>Adele (ảnh) đã chiến thắng giải thưởng quan tr...</td>\n",
       "      <td>Không xuất hiện trên sân khấu để nhận giải vì ...</td>\n",
       "    </tr>\n",
       "    <tr>\n",
       "      <th>1944</th>\n",
       "      <td>The Weeknd, Adele thắng đậm tại Billboard Musi...</td>\n",
       "      <td>Adele, The Weeknd, Madona, Prince, Britney Spe...</td>\n",
       "      <td>Nam ca sĩ The Hills và nữ ca sĩ Hello vừa rinh...</td>\n",
       "      <td>Theo Billboard, The Weeknd giành chiến thắng v...</td>\n",
       "    </tr>\n",
       "  </tbody>\n",
       "</table>\n",
       "<p>1945 rows × 4 columns</p>\n",
       "</div>"
      ],
      "text/plain": [
       "                                                  Title  \\\n",
       "0       Vướng dây điện khi đi xe đạp, bé trai chết thảm   \n",
       "1     Bé trai 11 tuổi bị điện giật chết, chủ nhà hàn...   \n",
       "2     Bị điện giật chơi ở công viên, cháu bé 11 tuổi...   \n",
       "3     Vụ bé trai bị điện giật tử vong: Chủ nhà hàng ...   \n",
       "4            Bé trai tử vong do vướng dây điện nhà hàng   \n",
       "...                                                 ...   \n",
       "1940  Adele, The Weekend thắng lớn tại lễ trao giải ...   \n",
       "1941  Adele và The Weeknd thâu tóm hết danh hiệu qua...   \n",
       "1942  Adele gây bất ngờ khi ẵm trọn giải thưởng lớn ...   \n",
       "1943         Adele thắng đậm giải thưởng Billboard 2016   \n",
       "1944  The Weeknd, Adele thắng đậm tại Billboard Musi...   \n",
       "\n",
       "                                                   Tags  \\\n",
       "0     điện giật tử vong, bé trai tử vong, cháu bé tử...   \n",
       "1     điện giật chết, điện giật tử vong, tai nạn thư...   \n",
       "2             điện giật, công viên, nhà hàng, Quảng Nam   \n",
       "3     công an, điều tra, làm rõ, nạn nhân, đường dây...   \n",
       "4                        điện giật, nhà hàng, TP Tam Kỳ   \n",
       "...                                                 ...   \n",
       "1940  âm nhạc, giải thưởng, billboard, Adele, The we...   \n",
       "1941  Adele, The Weeknd, Justin Bielber, Taylor Swif...   \n",
       "1942                                adele, Taylor Swift   \n",
       "1943                                                      \n",
       "1944  Adele, The Weeknd, Madona, Prince, Britney Spe...   \n",
       "\n",
       "                                                Summary  \\\n",
       "0     Sau khi kết thúc năm học, cháu bé được bố mẹ đ...   \n",
       "1     Chủ nhà hàng Ba Cơ nhận trách nhiệm về vụ việc...   \n",
       "2     Trong lúc đạp xe chơi ở công viên, em Nguyễn T...   \n",
       "3     Liên quan tới vụ bé trai tử vong do vướng dây ...   \n",
       "4     Ngày 1-6, ông Nguyễn Thanh Bình - chủ tịch UBN...   \n",
       "...                                                 ...   \n",
       "1940  Dù vắng mặt tại sự kiện âm nhạc hàng đầu thế g...   \n",
       "1941  Rạng sáng nay (23/5) theo giờ Việt Nam, lễ tra...   \n",
       "1942  Album \"25\" thực sự là bom tấn khi giúp \"họa mi...   \n",
       "1943  Adele (ảnh) đã chiến thắng giải thưởng quan tr...   \n",
       "1944  Nam ca sĩ The Hills và nữ ca sĩ Hello vừa rinh...   \n",
       "\n",
       "                                                Content  \n",
       "0     Ngày 1/6, trao đổi với PV Dân trí, lãnh đạo xã...  \n",
       "1     Chiều 1.6, ông Nguyễn Thanh Bình, Chủ tịch UBN...  \n",
       "2     Tin nhanh ngày 1/6, ông Đỗ Ngọc Vĩnh (Phó Công...  \n",
       "3     Đến sáng 1/6, gia đình em Nguyễn Thành Công (S...  \n",
       "4     Trước đó, em Nguyễn Thành Công (trú tại TP.HCM...  \n",
       "...                                                 ...  \n",
       "1940  Adele là nữ nghệ sĩ nhận được tám đề cử tại lễ...  \n",
       "1941  Đêm trao giải đã khiến NHM thỏa mãn lòng mong ...  \n",
       "1942  Lễ trao giải Billboard Music Awards lần thứ 24...  \n",
       "1943  Không xuất hiện trên sân khấu để nhận giải vì ...  \n",
       "1944  Theo Billboard, The Weeknd giành chiến thắng v...  \n",
       "\n",
       "[1945 rows x 4 columns]"
      ]
     },
     "execution_count": 110,
     "metadata": {},
     "output_type": "execute_result"
    }
   ],
   "source": [
    "view_data"
   ]
  },
  {
   "cell_type": "code",
   "execution_count": 111,
   "metadata": {},
   "outputs": [
    {
     "data": {
      "text/html": [
       "<div>\n",
       "<style scoped>\n",
       "    .dataframe tbody tr th:only-of-type {\n",
       "        vertical-align: middle;\n",
       "    }\n",
       "\n",
       "    .dataframe tbody tr th {\n",
       "        vertical-align: top;\n",
       "    }\n",
       "\n",
       "    .dataframe thead th {\n",
       "        text-align: right;\n",
       "    }\n",
       "</style>\n",
       "<table border=\"1\" class=\"dataframe\">\n",
       "  <thead>\n",
       "    <tr style=\"text-align: right;\">\n",
       "      <th></th>\n",
       "      <th>Title</th>\n",
       "      <th>Tags</th>\n",
       "      <th>Summary</th>\n",
       "      <th>Content</th>\n",
       "    </tr>\n",
       "  </thead>\n",
       "  <tbody>\n",
       "    <tr>\n",
       "      <th>count</th>\n",
       "      <td>1945</td>\n",
       "      <td>1945</td>\n",
       "      <td>1945</td>\n",
       "      <td>1945</td>\n",
       "    </tr>\n",
       "    <tr>\n",
       "      <th>unique</th>\n",
       "      <td>1937</td>\n",
       "      <td>1701</td>\n",
       "      <td>1891</td>\n",
       "      <td>1944</td>\n",
       "    </tr>\n",
       "    <tr>\n",
       "      <th>top</th>\n",
       "      <td>Kiểm tra chỉ tiêu an toàn muối ăn tại một số đ...</td>\n",
       "      <td></td>\n",
       "      <td></td>\n",
       "      <td>Brandon Cipes – phó chủ tịch hệ thống thông ti...</td>\n",
       "    </tr>\n",
       "    <tr>\n",
       "      <th>freq</th>\n",
       "      <td>2</td>\n",
       "      <td>241</td>\n",
       "      <td>45</td>\n",
       "      <td>2</td>\n",
       "    </tr>\n",
       "  </tbody>\n",
       "</table>\n",
       "</div>"
      ],
      "text/plain": [
       "                                                    Title  Tags Summary  \\\n",
       "count                                                1945  1945    1945   \n",
       "unique                                               1937  1701    1891   \n",
       "top     Kiểm tra chỉ tiêu an toàn muối ăn tại một số đ...                 \n",
       "freq                                                    2   241      45   \n",
       "\n",
       "                                                  Content  \n",
       "count                                                1945  \n",
       "unique                                               1944  \n",
       "top     Brandon Cipes – phó chủ tịch hệ thống thông ti...  \n",
       "freq                                                    2  "
      ]
     },
     "execution_count": 111,
     "metadata": {},
     "output_type": "execute_result"
    }
   ],
   "source": [
    "view_data.describe()"
   ]
  },
  {
   "cell_type": "code",
   "execution_count": 125,
   "metadata": {},
   "outputs": [
    {
     "name": "stdout",
     "output_type": "stream",
     "text": [
      "sentence_count:  29595\n"
     ]
    }
   ],
   "source": [
    "# Sentence Count — Total number of sentences in the text\n",
    "sentence_count = view_data[\"Content\"].apply(lambda x: len(x.replace(\"\\n\", \"\").split(\".\"))-1)\n",
    "print(\"sentence_count: \", sentence_count.sum())"
   ]
  },
  {
   "cell_type": "code",
   "execution_count": 126,
   "metadata": {},
   "outputs": [
    {
     "name": "stdout",
     "output_type": "stream",
     "text": [
      "word_count:  794412\n"
     ]
    }
   ],
   "source": [
    "# Word Count — Total number of words in the text\n",
    "word_count = view_data[\"Content\"].apply(lambda x: len(re.findall(r\"[\\w']+\", x)))\n",
    "print(\"word_count: \", word_count.sum())"
   ]
  },
  {
   "cell_type": "code",
   "execution_count": 132,
   "metadata": {},
   "outputs": [
    {
     "name": "stdout",
     "output_type": "stream",
     "text": [
      "character_count:  2819789\n"
     ]
    }
   ],
   "source": [
    "# Character Count — Total number of characters in the text excluding spaces\n",
    "character_count = view_data[\"Content\"].apply(lambda x: len(x.replace(\" \", \"\")))\n",
    "print(\"character_count: \", character_count.sum())"
   ]
  },
  {
   "cell_type": "code",
   "execution_count": null,
   "metadata": {},
   "outputs": [],
   "source": [
    "# Stopwords Count — Total number of common stopwords in the text"
   ]
  },
  {
   "cell_type": "code",
   "execution_count": 143,
   "metadata": {},
   "outputs": [
    {
     "data": {
      "text/html": [
       "<div>\n",
       "<style scoped>\n",
       "    .dataframe tbody tr th:only-of-type {\n",
       "        vertical-align: middle;\n",
       "    }\n",
       "\n",
       "    .dataframe tbody tr th {\n",
       "        vertical-align: top;\n",
       "    }\n",
       "\n",
       "    .dataframe thead th {\n",
       "        text-align: right;\n",
       "    }\n",
       "</style>\n",
       "<table border=\"1\" class=\"dataframe\">\n",
       "  <thead>\n",
       "    <tr style=\"text-align: right;\">\n",
       "      <th></th>\n",
       "      <th>Sentence_count</th>\n",
       "      <th>Word_count</th>\n",
       "      <th>Character_count</th>\n",
       "      <th>Sentence_density</th>\n",
       "    </tr>\n",
       "  </thead>\n",
       "  <tbody>\n",
       "    <tr>\n",
       "      <th>0</th>\n",
       "      <td>9</td>\n",
       "      <td>241</td>\n",
       "      <td>851</td>\n",
       "      <td>26.777778</td>\n",
       "    </tr>\n",
       "    <tr>\n",
       "      <th>1</th>\n",
       "      <td>16</td>\n",
       "      <td>225</td>\n",
       "      <td>793</td>\n",
       "      <td>14.062500</td>\n",
       "    </tr>\n",
       "    <tr>\n",
       "      <th>2</th>\n",
       "      <td>12</td>\n",
       "      <td>267</td>\n",
       "      <td>935</td>\n",
       "      <td>22.250000</td>\n",
       "    </tr>\n",
       "    <tr>\n",
       "      <th>3</th>\n",
       "      <td>17</td>\n",
       "      <td>399</td>\n",
       "      <td>1382</td>\n",
       "      <td>23.470588</td>\n",
       "    </tr>\n",
       "    <tr>\n",
       "      <th>4</th>\n",
       "      <td>13</td>\n",
       "      <td>310</td>\n",
       "      <td>1061</td>\n",
       "      <td>23.846154</td>\n",
       "    </tr>\n",
       "    <tr>\n",
       "      <th>...</th>\n",
       "      <td>...</td>\n",
       "      <td>...</td>\n",
       "      <td>...</td>\n",
       "      <td>...</td>\n",
       "    </tr>\n",
       "    <tr>\n",
       "      <th>1940</th>\n",
       "      <td>16</td>\n",
       "      <td>373</td>\n",
       "      <td>1467</td>\n",
       "      <td>23.312500</td>\n",
       "    </tr>\n",
       "    <tr>\n",
       "      <th>1941</th>\n",
       "      <td>6</td>\n",
       "      <td>375</td>\n",
       "      <td>1425</td>\n",
       "      <td>62.500000</td>\n",
       "    </tr>\n",
       "    <tr>\n",
       "      <th>1942</th>\n",
       "      <td>10</td>\n",
       "      <td>661</td>\n",
       "      <td>2677</td>\n",
       "      <td>66.100000</td>\n",
       "    </tr>\n",
       "    <tr>\n",
       "      <th>1943</th>\n",
       "      <td>8</td>\n",
       "      <td>246</td>\n",
       "      <td>968</td>\n",
       "      <td>30.750000</td>\n",
       "    </tr>\n",
       "    <tr>\n",
       "      <th>1944</th>\n",
       "      <td>9</td>\n",
       "      <td>408</td>\n",
       "      <td>1672</td>\n",
       "      <td>45.333333</td>\n",
       "    </tr>\n",
       "  </tbody>\n",
       "</table>\n",
       "<p>1945 rows × 4 columns</p>\n",
       "</div>"
      ],
      "text/plain": [
       "      Sentence_count  Word_count  Character_count  Sentence_density\n",
       "0                  9         241              851         26.777778\n",
       "1                 16         225              793         14.062500\n",
       "2                 12         267              935         22.250000\n",
       "3                 17         399             1382         23.470588\n",
       "4                 13         310             1061         23.846154\n",
       "...              ...         ...              ...               ...\n",
       "1940              16         373             1467         23.312500\n",
       "1941               6         375             1425         62.500000\n",
       "1942              10         661             2677         66.100000\n",
       "1943               8         246              968         30.750000\n",
       "1944               9         408             1672         45.333333\n",
       "\n",
       "[1945 rows x 4 columns]"
      ]
     },
     "execution_count": 143,
     "metadata": {},
     "output_type": "execute_result"
    }
   ],
   "source": [
    "df = pd.DataFrame()\n",
    "df[\"Sentence_count\"]=sentence_count\n",
    "df[\"Word_count\"]=word_count\n",
    "df[\"Character_count\"]=character_count\n",
    "df[\"Sentence_density\"]=df[\"Word_count\"]/df[\"Sentence_count\"]\n",
    "df"
   ]
  },
  {
   "cell_type": "code",
   "execution_count": 139,
   "metadata": {},
   "outputs": [
    {
     "data": {
      "text/html": [
       "<div>\n",
       "<style scoped>\n",
       "    .dataframe tbody tr th:only-of-type {\n",
       "        vertical-align: middle;\n",
       "    }\n",
       "\n",
       "    .dataframe tbody tr th {\n",
       "        vertical-align: top;\n",
       "    }\n",
       "\n",
       "    .dataframe thead th {\n",
       "        text-align: right;\n",
       "    }\n",
       "</style>\n",
       "<table border=\"1\" class=\"dataframe\">\n",
       "  <thead>\n",
       "    <tr style=\"text-align: right;\">\n",
       "      <th></th>\n",
       "      <th>Sentence_count</th>\n",
       "      <th>Word_count</th>\n",
       "      <th>Character_count</th>\n",
       "      <th>Sentence_density</th>\n",
       "    </tr>\n",
       "  </thead>\n",
       "  <tbody>\n",
       "    <tr>\n",
       "      <th>count</th>\n",
       "      <td>1945.000000</td>\n",
       "      <td>1945.000000</td>\n",
       "      <td>1945.000000</td>\n",
       "      <td>1945.000000</td>\n",
       "    </tr>\n",
       "    <tr>\n",
       "      <th>mean</th>\n",
       "      <td>15.215938</td>\n",
       "      <td>408.438046</td>\n",
       "      <td>1449.762982</td>\n",
       "      <td>28.195207</td>\n",
       "    </tr>\n",
       "    <tr>\n",
       "      <th>std</th>\n",
       "      <td>10.266794</td>\n",
       "      <td>264.196656</td>\n",
       "      <td>938.222392</td>\n",
       "      <td>9.016166</td>\n",
       "    </tr>\n",
       "    <tr>\n",
       "      <th>min</th>\n",
       "      <td>1.000000</td>\n",
       "      <td>49.000000</td>\n",
       "      <td>173.000000</td>\n",
       "      <td>5.573529</td>\n",
       "    </tr>\n",
       "    <tr>\n",
       "      <th>25%</th>\n",
       "      <td>9.000000</td>\n",
       "      <td>235.000000</td>\n",
       "      <td>837.000000</td>\n",
       "      <td>22.125000</td>\n",
       "    </tr>\n",
       "    <tr>\n",
       "      <th>50%</th>\n",
       "      <td>13.000000</td>\n",
       "      <td>335.000000</td>\n",
       "      <td>1196.000000</td>\n",
       "      <td>26.434783</td>\n",
       "    </tr>\n",
       "    <tr>\n",
       "      <th>75%</th>\n",
       "      <td>18.000000</td>\n",
       "      <td>490.000000</td>\n",
       "      <td>1741.000000</td>\n",
       "      <td>32.666667</td>\n",
       "    </tr>\n",
       "    <tr>\n",
       "      <th>max</th>\n",
       "      <td>179.000000</td>\n",
       "      <td>3095.000000</td>\n",
       "      <td>10944.000000</td>\n",
       "      <td>81.000000</td>\n",
       "    </tr>\n",
       "  </tbody>\n",
       "</table>\n",
       "</div>"
      ],
      "text/plain": [
       "       Sentence_count   Word_count  Character_count  Sentence_density\n",
       "count     1945.000000  1945.000000      1945.000000       1945.000000\n",
       "mean        15.215938   408.438046      1449.762982         28.195207\n",
       "std         10.266794   264.196656       938.222392          9.016166\n",
       "min          1.000000    49.000000       173.000000          5.573529\n",
       "25%          9.000000   235.000000       837.000000         22.125000\n",
       "50%         13.000000   335.000000      1196.000000         26.434783\n",
       "75%         18.000000   490.000000      1741.000000         32.666667\n",
       "max        179.000000  3095.000000     10944.000000         81.000000"
      ]
     },
     "execution_count": 139,
     "metadata": {},
     "output_type": "execute_result"
    }
   ],
   "source": [
    "df.describe()"
   ]
  },
  {
   "cell_type": "code",
   "execution_count": 117,
   "metadata": {},
   "outputs": [],
   "source": [
    "# Word Density — Average length of the words used in the headline\n",
    "# Punctuation Count — Total number of punctuations used in the headline"
   ]
  }
 ],
 "metadata": {
  "interpreter": {
   "hash": "31f2aee4e71d21fbe5cf8b01ff0e069b9275f58929596ceb00d14d90e3e16cd6"
  },
  "kernelspec": {
   "display_name": "Python 3.6.9 64-bit",
   "name": "python3"
  },
  "language_info": {
   "codemirror_mode": {
    "name": "ipython",
    "version": 3
   },
   "file_extension": ".py",
   "mimetype": "text/x-python",
   "name": "python",
   "nbconvert_exporter": "python",
   "pygments_lexer": "ipython3",
   "version": "3.6.9"
  },
  "orig_nbformat": 4
 },
 "nbformat": 4,
 "nbformat_minor": 2
}
